{
 "cells": [
  {
   "cell_type": "markdown",
   "metadata": {},
   "source": [
    "# Day 2"
   ]
  },
  {
   "cell_type": "markdown",
   "metadata": {},
   "source": [
    "## Part 1"
   ]
  },
  {
   "cell_type": "code",
   "execution_count": 140,
   "metadata": {},
   "outputs": [],
   "source": [
    "import os,sys\n",
    "import time\n",
    "import urllib"
   ]
  },
  {
   "cell_type": "code",
   "execution_count": 133,
   "metadata": {},
   "outputs": [],
   "source": [
    "with open('input2.txt') as f:\n",
    "    lines = f.readlines()"
   ]
  },
  {
   "cell_type": "code",
   "execution_count": 134,
   "metadata": {},
   "outputs": [
    {
     "name": "stdout",
     "output_type": "stream",
     "text": [
      "1000\n",
      "1-5 r: rvmjr\n"
     ]
    }
   ],
   "source": [
    "a = len(lines)\n",
    "print(a)\n",
    "aux = lines[999]\n",
    "lines[999] = aux+\"\\n\"\n",
    "print(aux)"
   ]
  },
  {
   "cell_type": "code",
   "execution_count": 135,
   "metadata": {},
   "outputs": [
    {
     "name": "stdout",
     "output_type": "stream",
     "text": [
      "qlzsnnnndwnlhwnxhvjn\n"
     ]
    }
   ],
   "source": [
    "i=1\n",
    "element = lines[i].split(\": \")[1][:-1]\n",
    "print(element)"
   ]
  },
  {
   "cell_type": "code",
   "execution_count": 136,
   "metadata": {},
   "outputs": [
    {
     "name": "stdout",
     "output_type": "stream",
     "text": [
      "564\n"
     ]
    }
   ],
   "source": [
    "count = 0\n",
    "for i in range(len(lines)):\n",
    "    element = lines[i]\n",
    "    lower_bound = int(element.split(\"-\")[0])\n",
    "    higher_bound = int(element.split(\"-\")[1].split(\" \")[0])\n",
    "    evaluator = element.split(\":\")[0][-1:]\n",
    "    evaluation = element.split(\": \")[1][:-1]\n",
    "    validator = evaluator in evaluation\n",
    "    if validator != 0:\n",
    "        c = evaluation.count(evaluator)\n",
    "        first = (c>= lower_bound)\n",
    "        second = ((c<= higher_bound))\n",
    "        if c >= lower_bound and c<= higher_bound:\n",
    "            count = count + 1\n",
    "    #print(lower_bound,higher_bound,evaluator,evaluation,validator,c,count,first,second)\n",
    "print(count)"
   ]
  },
  {
   "cell_type": "markdown",
   "metadata": {},
   "source": [
    "## Part 2"
   ]
  },
  {
   "cell_type": "code",
   "execution_count": 139,
   "metadata": {},
   "outputs": [
    {
     "name": "stdout",
     "output_type": "stream",
     "text": [
      "325\n"
     ]
    }
   ],
   "source": [
    "count = 0\n",
    "for i in range(len(lines)):\n",
    "    element = lines[i]\n",
    "    lower_bound = int(element.split(\"-\")[0])\n",
    "    higher_bound = int(element.split(\"-\")[1].split(\" \")[0])\n",
    "    evaluator = element.split(\":\")[0][-1:]\n",
    "    evaluation = element.split(\": \")[1][:-1]\n",
    "    validator = evaluator in evaluation\n",
    "    if lower_bound in range(len(evaluation)+1):\n",
    "        first = evaluation[lower_bound-1] == evaluator\n",
    "    else:\n",
    "        first = False\n",
    "    if higher_bound in range(len(evaluation)+1):\n",
    "        second = evaluation[higher_bound-1] == evaluator\n",
    "    else:\n",
    "        second = False\n",
    "    if first != second:\n",
    "        count = count + 1\n",
    "    #print(lower_bound,higher_bound,evaluator,evaluation,count,first,second)\n",
    "print(count)"
   ]
  },
  {
   "cell_type": "markdown",
   "metadata": {},
   "source": [
    "# Day 3"
   ]
  },
  {
   "cell_type": "markdown",
   "metadata": {},
   "source": [
    "## Part 1"
   ]
  },
  {
   "cell_type": "code",
   "execution_count": 145,
   "metadata": {},
   "outputs": [],
   "source": [
    "with open('input3.txt') as f:\n",
    "    input3 = f.read().splitlines()"
   ]
  },
  {
   "cell_type": "code",
   "execution_count": 151,
   "metadata": {},
   "outputs": [],
   "source": [
    "#print(input3)"
   ]
  },
  {
   "cell_type": "code",
   "execution_count": 157,
   "metadata": {},
   "outputs": [
    {
     "data": {
      "text/plain": [
       "323"
      ]
     },
     "execution_count": 157,
     "metadata": {},
     "output_type": "execute_result"
    }
   ],
   "source": [
    "len(input3)"
   ]
  },
  {
   "cell_type": "code",
   "execution_count": 159,
   "metadata": {},
   "outputs": [
    {
     "name": "stdout",
     "output_type": "stream",
     "text": [
      "969\n"
     ]
    }
   ],
   "source": [
    "# 1. Analizar el patrón (Completar el patrón las veces que sea necesario)\n",
    "# 2. Crear los fors para poder loopear hasta completar la diagonal\n",
    "\n",
    "columnas_necesarias = len(input3) * 3\n",
    "print(columnas_necesarias)"
   ]
  },
  {
   "cell_type": "code",
   "execution_count": 160,
   "metadata": {},
   "outputs": [
    {
     "data": {
      "text/plain": [
       "31"
      ]
     },
     "execution_count": 160,
     "metadata": {},
     "output_type": "execute_result"
    }
   ],
   "source": [
    "len(input3[0])"
   ]
  },
  {
   "cell_type": "code",
   "execution_count": 178,
   "metadata": {},
   "outputs": [
    {
     "name": "stdout",
     "output_type": "stream",
     "text": [
      "205\n"
     ]
    }
   ],
   "source": [
    "count = 0\n",
    "j=0\n",
    "for i in range (0,len(input3)):\n",
    "    k=j%(len(input3[0]))\n",
    "    evaluator = input3[i][k]\n",
    "    if evaluator == \"#\":\n",
    "        count = count + 1\n",
    "    j=j+3    \n",
    "    #print(i,k)\n",
    "print(count)"
   ]
  },
  {
   "cell_type": "markdown",
   "metadata": {},
   "source": [
    "## Part 2"
   ]
  },
  {
   "cell_type": "code",
   "execution_count": 181,
   "metadata": {},
   "outputs": [],
   "source": [
    "def TreeCalculator(right,down,data):\n",
    "    count = 0\n",
    "    j=0\n",
    "    for i in range (0,len(data),down):\n",
    "        k=j%(len(data[0]))\n",
    "        evaluator = data[i][k]\n",
    "        if evaluator == \"#\":\n",
    "            count = count + 1\n",
    "        j=j+right    \n",
    "        #print(i,k)\n",
    "    return(count)"
   ]
  },
  {
   "cell_type": "code",
   "execution_count": 182,
   "metadata": {},
   "outputs": [
    {
     "name": "stdout",
     "output_type": "stream",
     "text": [
      "3952146825\n"
     ]
    }
   ],
   "source": [
    "case_1 = TreeCalculator(1,1,input3)\n",
    "case_2 = TreeCalculator(3,1,input3)\n",
    "case_3 = TreeCalculator(5,1,input3)\n",
    "case_4 = TreeCalculator(7,1,input3)\n",
    "case_5 = TreeCalculator(1,2,input3)\n",
    "\n",
    "print(case_1*case_2*case_3*case_4*case_5)"
   ]
  },
  {
   "cell_type": "markdown",
   "metadata": {},
   "source": [
    "# Day 4"
   ]
  },
  {
   "cell_type": "code",
   "execution_count": null,
   "metadata": {},
   "outputs": [],
   "source": []
  }
 ],
 "metadata": {
  "kernelspec": {
   "display_name": "Python 3",
   "language": "python",
   "name": "python3"
  },
  "language_info": {
   "codemirror_mode": {
    "name": "ipython",
    "version": 3
   },
   "file_extension": ".py",
   "mimetype": "text/x-python",
   "name": "python",
   "nbconvert_exporter": "python",
   "pygments_lexer": "ipython3",
   "version": "3.7.4"
  }
 },
 "nbformat": 4,
 "nbformat_minor": 4
}
