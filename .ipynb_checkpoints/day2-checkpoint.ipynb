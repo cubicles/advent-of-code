{
 "cells": [
  {
   "cell_type": "markdown",
   "metadata": {},
   "source": [
    "# Day 1"
   ]
  },
  {
   "cell_type": "markdown",
   "metadata": {},
   "source": [
    "## Part 1"
   ]
  },
  {
   "cell_type": "code",
   "execution_count": 20,
   "metadata": {},
   "outputs": [],
   "source": [
    "#Reading inputs\n",
    "with open('inputs/day2.txt') as f:\n",
    "    input = f.readlines()\n",
    "list=[]\n",
    "for i in input:\n",
    "    list.append(i.split(\"\\n\")[0])"
   ]
  },
  {
   "cell_type": "code",
   "execution_count": 23,
   "metadata": {},
   "outputs": [],
   "source": [
    "#First part\n",
    "def day2part1(input):\n",
    "    count = 0\n",
    "    for i in range(len(input)):\n",
    "        element = input[i]\n",
    "        lower_bound = int(input[i].split(\"-\")[0])\n",
    "        higher_bound = int(input[i].split(\"-\")[1].split(\" \")[0])\n",
    "        evaluator = input[i].split(\" \")[1][0]\n",
    "        evaluation = input[i].split(\" \")[2]\n",
    "        validator = evaluator in evaluation\n",
    "        if validator != 0:\n",
    "            c = evaluation.count(evaluator)\n",
    "            first = (c>= lower_bound)\n",
    "            second = ((c<= higher_bound))\n",
    "            if c >= lower_bound and c<= higher_bound:\n",
    "                count = count + 1\n",
    "    return count"
   ]
  },
  {
   "cell_type": "code",
   "execution_count": 24,
   "metadata": {
    "scrolled": true
   },
   "outputs": [
    {
     "data": {
      "text/plain": [
       "564"
      ]
     },
     "execution_count": 24,
     "metadata": {},
     "output_type": "execute_result"
    }
   ],
   "source": [
    "day2part1(list)"
   ]
  },
  {
   "cell_type": "markdown",
   "metadata": {},
   "source": [
    "## Part 2"
   ]
  },
  {
   "cell_type": "code",
   "execution_count": 25,
   "metadata": {},
   "outputs": [],
   "source": [
    "#Second part\n",
    "def day2part2(input):\n",
    "    count = 0\n",
    "    for i in range(len(input)):\n",
    "        element = input[i]\n",
    "        lower_bound = int(input[i].split(\"-\")[0])\n",
    "        higher_bound = int(input[i].split(\"-\")[1].split(\" \")[0])\n",
    "        evaluator = input[i].split(\" \")[1][0]\n",
    "        evaluation = input[i].split(\" \")[2]\n",
    "        validator = evaluator in evaluation\n",
    "        if lower_bound in range(len(evaluation)+1):\n",
    "            first = evaluation[lower_bound-1] == evaluator\n",
    "        else:\n",
    "            first = False\n",
    "        if higher_bound in range(len(evaluation)+1):\n",
    "            second = evaluation[higher_bound-1] == evaluator\n",
    "        else:\n",
    "            second = False\n",
    "        if first != second:\n",
    "            count = count + 1\n",
    "    return count"
   ]
  },
  {
   "cell_type": "code",
   "execution_count": 26,
   "metadata": {},
   "outputs": [
    {
     "data": {
      "text/plain": [
       "325"
      ]
     },
     "execution_count": 26,
     "metadata": {},
     "output_type": "execute_result"
    }
   ],
   "source": [
    "day2part2(list)"
   ]
  },
  {
   "cell_type": "code",
   "execution_count": 28,
   "metadata": {},
   "outputs": [
    {
     "name": "stdout",
     "output_type": "stream",
     "text": [
      "[NbConvertApp] Converting notebook day2.ipynb to script\n",
      "[NbConvertApp] Writing 1842 bytes to day2.py\n"
     ]
    }
   ],
   "source": [
    "#!jupyter nbconvert --to script day2.ipynb"
   ]
  },
  {
   "cell_type": "code",
   "execution_count": null,
   "metadata": {},
   "outputs": [],
   "source": []
  }
 ],
 "metadata": {
  "kernelspec": {
   "display_name": "Python 3",
   "language": "python",
   "name": "python3"
  },
  "language_info": {
   "codemirror_mode": {
    "name": "ipython",
    "version": 3
   },
   "file_extension": ".py",
   "mimetype": "text/x-python",
   "name": "python",
   "nbconvert_exporter": "python",
   "pygments_lexer": "ipython3",
   "version": "3.7.4"
  }
 },
 "nbformat": 4,
 "nbformat_minor": 4
}
