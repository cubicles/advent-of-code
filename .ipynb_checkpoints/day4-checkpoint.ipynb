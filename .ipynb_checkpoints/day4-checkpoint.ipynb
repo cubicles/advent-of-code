{
 "cells": [
  {
   "cell_type": "markdown",
   "metadata": {},
   "source": [
    "# Day 4"
   ]
  },
  {
   "cell_type": "markdown",
   "metadata": {},
   "source": [
    "## Part 1"
   ]
  },
  {
   "cell_type": "code",
   "execution_count": 19,
   "metadata": {},
   "outputs": [],
   "source": [
    "#Reading inputs\n",
    "with open('inputs/day3.txt') as f:\n",
    "    input = f.readlines()\n",
    "list=[]\n",
    "for i in input:\n",
    "    list.append(i.split(\"\\n\")[0])"
   ]
  },
  {
   "cell_type": "code",
   "execution_count": 20,
   "metadata": {},
   "outputs": [],
   "source": [
    "#First part\n",
    "def day3part1(input):\n",
    "    count = 0\n",
    "    j=0\n",
    "    for i in range (0,len(input)):\n",
    "        k=j%(len(input[0]))\n",
    "        evaluator = input[i][k]\n",
    "        if evaluator == \"#\":\n",
    "            count = count + 1\n",
    "        j=j+3    \n",
    "        #print(i,k)\n",
    "    return count"
   ]
  },
  {
   "cell_type": "code",
   "execution_count": 21,
   "metadata": {
    "scrolled": true
   },
   "outputs": [
    {
     "data": {
      "text/plain": [
       "205"
      ]
     },
     "execution_count": 21,
     "metadata": {},
     "output_type": "execute_result"
    }
   ],
   "source": [
    "day3part1(list)"
   ]
  },
  {
   "cell_type": "markdown",
   "metadata": {},
   "source": [
    "## Part 2"
   ]
  },
  {
   "cell_type": "code",
   "execution_count": 22,
   "metadata": {},
   "outputs": [],
   "source": [
    "#Second part\n",
    "def day3part2(right,down,input):\n",
    "    count = 0\n",
    "    j=0\n",
    "    for i in range (0,len(input),down):\n",
    "        k=j%(len(input[0]))\n",
    "        evaluator = input[i][k]\n",
    "        if evaluator == \"#\":\n",
    "            count = count + 1\n",
    "        j=j+right    \n",
    "        #print(i,k)\n",
    "    return count"
   ]
  },
  {
   "cell_type": "code",
   "execution_count": 23,
   "metadata": {},
   "outputs": [
    {
     "name": "stdout",
     "output_type": "stream",
     "text": [
      "3952146825\n"
     ]
    }
   ],
   "source": [
    "case_1 = day3part2(1,1,input3)\n",
    "case_2 = day3part2(3,1,input3)\n",
    "case_3 = day3part2(5,1,input3)\n",
    "case_4 = day3part2(7,1,input3)\n",
    "case_5 = day3part2(1,2,input3)\n",
    "print(case_1*case_2*case_3*case_4*case_5)"
   ]
  },
  {
   "cell_type": "code",
   "execution_count": 27,
   "metadata": {},
   "outputs": [],
   "source": [
    "#!jupyter nbconvert --to script day3.ipynb"
   ]
  },
  {
   "cell_type": "code",
   "execution_count": null,
   "metadata": {},
   "outputs": [],
   "source": []
  }
 ],
 "metadata": {
  "kernelspec": {
   "display_name": "Python 3",
   "language": "python",
   "name": "python3"
  },
  "language_info": {
   "codemirror_mode": {
    "name": "ipython",
    "version": 3
   },
   "file_extension": ".py",
   "mimetype": "text/x-python",
   "name": "python",
   "nbconvert_exporter": "python",
   "pygments_lexer": "ipython3",
   "version": "3.7.4"
  }
 },
 "nbformat": 4,
 "nbformat_minor": 4
}
