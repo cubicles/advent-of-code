{
 "cells": [
  {
   "cell_type": "markdown",
   "metadata": {},
   "source": [
    "# Day 1"
   ]
  },
  {
   "cell_type": "markdown",
   "metadata": {},
   "source": [
    "## Part 1"
   ]
  },
  {
   "cell_type": "code",
   "execution_count": 86,
   "metadata": {},
   "outputs": [],
   "source": [
    "#Reading inputs\n",
    "with open('inputs/day1.txt') as f:\n",
    "    input = f.readlines()\n",
    "numlist=[]\n",
    "for i in input:\n",
    "    numlist.append(int(i.split(\"\\n\")[0]))"
   ]
  },
  {
   "cell_type": "code",
   "execution_count": 87,
   "metadata": {},
   "outputs": [],
   "source": [
    "#First part\n",
    "def day1part1(input):\n",
    "    for i in range(len(input)):\n",
    "        for j in range(i+1,len(input)):\n",
    "            sum = input[i]+input[j]\n",
    "            if sum == 2020:\n",
    "                answer = input[i]*input[j]\n",
    "    return answer"
   ]
  },
  {
   "cell_type": "code",
   "execution_count": 88,
   "metadata": {
    "scrolled": true
   },
   "outputs": [
    {
     "name": "stdout",
     "output_type": "stream",
     "text": [
      "955584\n"
     ]
    }
   ],
   "source": [
    "print(day1part1(numlist))"
   ]
  },
  {
   "cell_type": "markdown",
   "metadata": {},
   "source": [
    "## Part 2"
   ]
  },
  {
   "cell_type": "code",
   "execution_count": 89,
   "metadata": {},
   "outputs": [],
   "source": [
    "#Second part\n",
    "def day1part2(input):\n",
    "    for i in range(len(input)):\n",
    "        for j in range(i+1,len(input)):\n",
    "            for k in range(i+2,len(input)):\n",
    "                sum = input[i]+input[j]+input[k]\n",
    "                if sum == 2020:\n",
    "                    answer = input[i]*input[j]*input[k]\n",
    "    return answer"
   ]
  },
  {
   "cell_type": "code",
   "execution_count": 90,
   "metadata": {},
   "outputs": [
    {
     "name": "stdout",
     "output_type": "stream",
     "text": [
      "287503934\n"
     ]
    }
   ],
   "source": [
    "print(day1part2(numlist))"
   ]
  },
  {
   "cell_type": "code",
   "execution_count": 91,
   "metadata": {},
   "outputs": [
    {
     "name": "stdout",
     "output_type": "stream",
     "text": [
      "[NbConvertApp] Converting notebook day1.ipynb to script\n",
      "[NbConvertApp] Writing 973 bytes to day1.py\n"
     ]
    }
   ],
   "source": [
    "#!jupyter nbconvert --to script day1.ipynb"
   ]
  },
  {
   "cell_type": "code",
   "execution_count": null,
   "metadata": {},
   "outputs": [],
   "source": []
  }
 ],
 "metadata": {
  "kernelspec": {
   "display_name": "Python 3",
   "language": "python",
   "name": "python3"
  },
  "language_info": {
   "codemirror_mode": {
    "name": "ipython",
    "version": 3
   },
   "file_extension": ".py",
   "mimetype": "text/x-python",
   "name": "python",
   "nbconvert_exporter": "python",
   "pygments_lexer": "ipython3",
   "version": "3.7.4"
  }
 },
 "nbformat": 4,
 "nbformat_minor": 4
}
